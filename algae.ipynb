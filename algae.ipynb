{
 "metadata": {
  "language_info": {
   "codemirror_mode": {
    "name": "ipython",
    "version": 3
   },
   "file_extension": ".py",
   "mimetype": "text/x-python",
   "name": "python",
   "nbconvert_exporter": "python",
   "pygments_lexer": "ipython3",
   "version": "3.8.5"
  },
  "orig_nbformat": 2,
  "kernelspec": {
   "name": "python395jvsc74a57bd0767d51c1340bd893661ea55ea3124f6de3c7a262a8b4abca0554b478b1e2ff90",
   "display_name": "R",
   "language": "R"
  }
 },
 "nbformat": 4,
 "nbformat_minor": 2,
 "cells": [
  {
   "source": [
    "$$\n",
    "p(\\theta_k) = \\frac{2}{\\pi}\\frac{b_k}{b_k^2 + \\theta_k^2}\n",
    "$$"
   ],
   "cell_type": "markdown",
   "metadata": {}
  },
  {
   "cell_type": "code",
   "execution_count": 5,
   "metadata": {},
   "outputs": [
    {
     "output_type": "error",
     "ename": "ERROR",
     "evalue": "Error in parse(text = x, srcfile = src): <text>:1:8: unexpected symbol\n1: import numpy\n           ^\n",
     "traceback": [
      "Error in parse(text = x, srcfile = src): <text>:1:8: unexpected symbol\n1: import numpy\n           ^\nTraceback:\n"
     ]
    }
   ],
   "source": [
    "import numpy as np\n",
    "import matplotlib.pyplot as plt\n",
    "thstar = np.array([500.0, 3.5, 0.4, 0.05, 2.0, 2.0])\n",
    "Pstar = 0.9\n",
    "b = thstar*np.arctan(np.pi/2*Pstar)"
   ]
  },
  {
   "cell_type": "code",
   "execution_count": 6,
   "metadata": {},
   "outputs": [
    {
     "output_type": "error",
     "ename": "ERROR",
     "evalue": "Error in plt.figure(): could not find function \"plt.figure\"\n",
     "traceback": [
      "Error in plt.figure(): could not find function \"plt.figure\"\nTraceback:\n"
     ]
    }
   ],
   "source": [
    "k = 0\n",
    "plt.figure()\n",
    "th = np.linspace(-10*thstar[k], 10*thstar[k], 500)\n",
    "plt.plot(th, b[k]/(b[k]**2 + th**2))\n",
    "plt.figure()\n",
    "plt.plot(th, 1.0/np.pi*(np.arctan(th/b[k]))+0.5)"
   ]
  },
  {
   "cell_type": "code",
   "execution_count": null,
   "metadata": {},
   "outputs": [],
   "source": []
  }
 ]
}